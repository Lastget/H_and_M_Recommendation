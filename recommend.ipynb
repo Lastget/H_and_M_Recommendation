{
 "cells": [
  {
   "cell_type": "markdown",
   "metadata": {},
   "source": [
    "### Load Transactions, Reduce Memory  "
   ]
  },
  {
   "cell_type": "code",
   "execution_count": 2,
   "metadata": {},
   "outputs": [],
   "source": [
    "import numpy as np\n",
    "import pandas as pd\n",
    "import seaborn as sns\n",
    "from matplotlib import pyplot as plt\n",
    "from tqdm.notebook import tqdm"
   ]
  },
  {
   "cell_type": "code",
   "execution_count": 64,
   "metadata": {},
   "outputs": [],
   "source": [
    "# articles = pd.read_csv(\"input/articles.csv\")\n",
    "# customers = pd.read_csv(\"input/customers.csv\")\n",
    "transactions = pd.read_csv(\"input/transactions_train.csv\")\n",
    "pd.set_option('display.max_columns', None)"
   ]
  },
  {
   "cell_type": "code",
   "execution_count": 65,
   "metadata": {},
   "outputs": [
    {
     "name": "stdout",
     "output_type": "stream",
     "text": [
      "(31788324, 3)\n",
      "       t_dat          customer_id  article_id\n",
      "0 2018-09-20    -6846340800584936   663713001\n",
      "1 2018-09-20    -6846340800584936   541518023\n",
      "2 2018-09-20 -8334631767138808638   505221004\n",
      "3 2018-09-20 -8334631767138808638   685687003\n",
      "4 2018-09-20 -8334631767138808638   685687004\n"
     ]
    }
   ],
   "source": [
    "# shrink customer_id, article_id \n",
    "transactions['customer_id'] = transactions['customer_id'].apply(lambda x: int(x[-16:],16)).astype('int64')\n",
    "transactions['article_id'] = transactions.article_id.astype('int32')\n",
    "transactions.t_dat = pd.to_datetime(transactions.t_dat)\n",
    "transactions = transactions[['t_dat','customer_id','article_id']]\n",
    "print( transactions.shape )\n",
    "print(transactions.head())"
   ]
  },
  {
   "cell_type": "markdown",
   "metadata": {},
   "source": [
    "## 0. Find Customer's latest purcahse and 2 purchases within 7 days. "
   ]
  },
  {
   "cell_type": "code",
   "execution_count": 66,
   "metadata": {},
   "outputs": [],
   "source": [
    "# Customers latest purchase date\n",
    "tmp = transactions.groupby('customer_id').t_dat.max().reset_index()\n",
    "tmp.columns = ['customer_id','max_dat']"
   ]
  },
  {
   "cell_type": "code",
   "execution_count": 68,
   "metadata": {},
   "outputs": [],
   "source": [
    "transactions = transactions.merge(tmp, on=['customer_id'], how ='left')\n",
    "# Get visit days \n",
    "transactions['diff_dat'] = (transactions.max_dat - transactions.t_dat).dt.days\n"
   ]
  },
  {
   "cell_type": "code",
   "execution_count": 69,
   "metadata": {},
   "outputs": [
    {
     "name": "stdout",
     "output_type": "stream",
     "text": [
      "        t_dat          customer_id  article_id    max_dat  diff_dat\n",
      "49 2018-09-20 -5667465470176998279   649356002 2018-09-20         0\n",
      "50 2018-09-20 -5667465470176998279   579941002 2018-09-20         0\n",
      "51 2018-09-20 -5667465470176998279   629760002 2018-09-20         0\n",
      "52 2018-09-20 -5667465470176998279   625229004 2018-09-20         0\n",
      "61 2018-09-20  -232048505547517783   613456009 2018-09-20         0\n",
      "(5181535, 5)\n"
     ]
    }
   ],
   "source": [
    "# Get purcahse transactions within 6 days \n",
    "transactions = transactions.loc[transactions['diff_dat']<=6]\n",
    "print(transactions.head())\n",
    "print(transactions.shape)"
   ]
  },
  {
   "cell_type": "markdown",
   "metadata": {},
   "source": [
    "## 1. Recommend customers items which they bought the most.  "
   ]
  },
  {
   "cell_type": "code",
   "execution_count": 215,
   "metadata": {},
   "outputs": [],
   "source": [
    "# load transaction data \n",
    "trans_most_df = pd.read_csv(\"input/transactions_train.csv\")\n",
    "trans_most_df = trans_most_df[['customer_id','article_id','t_dat']]\n",
    "#Shrink \n",
    "trans_most_df['customer_id'] = trans_most_df['customer_id'].apply(lambda x: int(x[-16:],16)).astype('int64')\n",
    "trans_most_df['article_id'] = trans_most_df.article_id.astype('int32')\n",
    "trans_most_df.t_dat = pd.to_datetime(trans_most_df.t_dat)"
   ]
  },
  {
   "cell_type": "code",
   "execution_count": 216,
   "metadata": {},
   "outputs": [
    {
     "data": {
      "text/html": [
       "<div>\n",
       "<style scoped>\n",
       "    .dataframe tbody tr th:only-of-type {\n",
       "        vertical-align: middle;\n",
       "    }\n",
       "\n",
       "    .dataframe tbody tr th {\n",
       "        vertical-align: top;\n",
       "    }\n",
       "\n",
       "    .dataframe thead th {\n",
       "        text-align: right;\n",
       "    }\n",
       "</style>\n",
       "<table border=\"1\" class=\"dataframe\">\n",
       "  <thead>\n",
       "    <tr style=\"text-align: right;\">\n",
       "      <th></th>\n",
       "      <th>customer_id</th>\n",
       "      <th>article_id</th>\n",
       "      <th>ct</th>\n",
       "    </tr>\n",
       "  </thead>\n",
       "  <tbody>\n",
       "    <tr>\n",
       "      <th>0</th>\n",
       "      <td>-9223352921020755230</td>\n",
       "      <td>539723001</td>\n",
       "      <td>1</td>\n",
       "    </tr>\n",
       "    <tr>\n",
       "      <th>1</th>\n",
       "      <td>-9223352921020755230</td>\n",
       "      <td>568597006</td>\n",
       "      <td>1</td>\n",
       "    </tr>\n",
       "    <tr>\n",
       "      <th>2</th>\n",
       "      <td>-9223352921020755230</td>\n",
       "      <td>657510001</td>\n",
       "      <td>1</td>\n",
       "    </tr>\n",
       "    <tr>\n",
       "      <th>3</th>\n",
       "      <td>-9223352921020755230</td>\n",
       "      <td>673396002</td>\n",
       "      <td>1</td>\n",
       "    </tr>\n",
       "    <tr>\n",
       "      <th>4</th>\n",
       "      <td>-9223352921020755230</td>\n",
       "      <td>706016001</td>\n",
       "      <td>3</td>\n",
       "    </tr>\n",
       "    <tr>\n",
       "      <th>...</th>\n",
       "      <td>...</td>\n",
       "      <td>...</td>\n",
       "      <td>...</td>\n",
       "    </tr>\n",
       "    <tr>\n",
       "      <th>27306434</th>\n",
       "      <td>9223357421094039679</td>\n",
       "      <td>710900001</td>\n",
       "      <td>1</td>\n",
       "    </tr>\n",
       "    <tr>\n",
       "      <th>27306435</th>\n",
       "      <td>9223357421094039679</td>\n",
       "      <td>747984001</td>\n",
       "      <td>2</td>\n",
       "    </tr>\n",
       "    <tr>\n",
       "      <th>27306436</th>\n",
       "      <td>9223357421094039679</td>\n",
       "      <td>747984002</td>\n",
       "      <td>1</td>\n",
       "    </tr>\n",
       "    <tr>\n",
       "      <th>27306437</th>\n",
       "      <td>9223370729206611574</td>\n",
       "      <td>679525012</td>\n",
       "      <td>1</td>\n",
       "    </tr>\n",
       "    <tr>\n",
       "      <th>27306438</th>\n",
       "      <td>9223370729206611574</td>\n",
       "      <td>781758003</td>\n",
       "      <td>1</td>\n",
       "    </tr>\n",
       "  </tbody>\n",
       "</table>\n",
       "<p>27306439 rows × 3 columns</p>\n",
       "</div>"
      ],
      "text/plain": [
       "                  customer_id  article_id  ct\n",
       "0        -9223352921020755230   539723001   1\n",
       "1        -9223352921020755230   568597006   1\n",
       "2        -9223352921020755230   657510001   1\n",
       "3        -9223352921020755230   673396002   1\n",
       "4        -9223352921020755230   706016001   3\n",
       "...                       ...         ...  ..\n",
       "27306434  9223357421094039679   710900001   1\n",
       "27306435  9223357421094039679   747984001   2\n",
       "27306436  9223357421094039679   747984002   1\n",
       "27306437  9223370729206611574   679525012   1\n",
       "27306438  9223370729206611574   781758003   1\n",
       "\n",
       "[27306439 rows x 3 columns]"
      ]
     },
     "execution_count": 216,
     "metadata": {},
     "output_type": "execute_result"
    }
   ],
   "source": [
    "trans_most_df = trans_most_df.groupby(['customer_id','article_id'])['t_dat'].agg('count').reset_index()\n",
    "trans_most_df.columns = ['customer_id','article_id','ct']\n",
    "trans_most_df"
   ]
  },
  {
   "cell_type": "code",
   "execution_count": 219,
   "metadata": {},
   "outputs": [
    {
     "data": {
      "text/html": [
       "<div>\n",
       "<style scoped>\n",
       "    .dataframe tbody tr th:only-of-type {\n",
       "        vertical-align: middle;\n",
       "    }\n",
       "\n",
       "    .dataframe tbody tr th {\n",
       "        vertical-align: top;\n",
       "    }\n",
       "\n",
       "    .dataframe thead th {\n",
       "        text-align: right;\n",
       "    }\n",
       "</style>\n",
       "<table border=\"1\" class=\"dataframe\">\n",
       "  <thead>\n",
       "    <tr style=\"text-align: right;\">\n",
       "      <th></th>\n",
       "      <th>customer_id</th>\n",
       "      <th>article_id</th>\n",
       "      <th>ct</th>\n",
       "    </tr>\n",
       "  </thead>\n",
       "  <tbody>\n",
       "    <tr>\n",
       "      <th>22164211</th>\n",
       "      <td>5743206735920807081</td>\n",
       "      <td>678342001</td>\n",
       "      <td>570</td>\n",
       "    </tr>\n",
       "    <tr>\n",
       "      <th>3596714</th>\n",
       "      <td>-6801691935245814174</td>\n",
       "      <td>629420001</td>\n",
       "      <td>199</td>\n",
       "    </tr>\n",
       "    <tr>\n",
       "      <th>13118781</th>\n",
       "      <td>-354604980049654278</td>\n",
       "      <td>507909001</td>\n",
       "      <td>188</td>\n",
       "    </tr>\n",
       "    <tr>\n",
       "      <th>2929681</th>\n",
       "      <td>-7250849952617471376</td>\n",
       "      <td>570002001</td>\n",
       "      <td>170</td>\n",
       "    </tr>\n",
       "    <tr>\n",
       "      <th>7449486</th>\n",
       "      <td>-4193172709156082837</td>\n",
       "      <td>688558002</td>\n",
       "      <td>166</td>\n",
       "    </tr>\n",
       "    <tr>\n",
       "      <th>...</th>\n",
       "      <td>...</td>\n",
       "      <td>...</td>\n",
       "      <td>...</td>\n",
       "    </tr>\n",
       "    <tr>\n",
       "      <th>9727145</th>\n",
       "      <td>-2643262122928061301</td>\n",
       "      <td>687704022</td>\n",
       "      <td>1</td>\n",
       "    </tr>\n",
       "    <tr>\n",
       "      <th>9727134</th>\n",
       "      <td>-2643268431573618120</td>\n",
       "      <td>803468002</td>\n",
       "      <td>1</td>\n",
       "    </tr>\n",
       "    <tr>\n",
       "      <th>9726865</th>\n",
       "      <td>-2643330769870893851</td>\n",
       "      <td>936622001</td>\n",
       "      <td>1</td>\n",
       "    </tr>\n",
       "    <tr>\n",
       "      <th>9726867</th>\n",
       "      <td>-2643322680570466252</td>\n",
       "      <td>640735003</td>\n",
       "      <td>1</td>\n",
       "    </tr>\n",
       "    <tr>\n",
       "      <th>9726953</th>\n",
       "      <td>-2643314466590604342</td>\n",
       "      <td>611221005</td>\n",
       "      <td>1</td>\n",
       "    </tr>\n",
       "  </tbody>\n",
       "</table>\n",
       "<p>1362281 rows × 3 columns</p>\n",
       "</div>"
      ],
      "text/plain": [
       "                  customer_id  article_id   ct\n",
       "22164211  5743206735920807081   678342001  570\n",
       "3596714  -6801691935245814174   629420001  199\n",
       "13118781  -354604980049654278   507909001  188\n",
       "2929681  -7250849952617471376   570002001  170\n",
       "7449486  -4193172709156082837   688558002  166\n",
       "...                       ...         ...  ...\n",
       "9727145  -2643262122928061301   687704022    1\n",
       "9727134  -2643268431573618120   803468002    1\n",
       "9726865  -2643330769870893851   936622001    1\n",
       "9726867  -2643322680570466252   640735003    1\n",
       "9726953  -2643314466590604342   611221005    1\n",
       "\n",
       "[1362281 rows x 3 columns]"
      ]
     },
     "execution_count": 219,
     "metadata": {},
     "output_type": "execute_result"
    }
   ],
   "source": [
    "# every customers most bought items \n",
    "trans_most_df = trans_most_df.sort_values('ct',ascending=False).drop_duplicates(['customer_id'])\n",
    "\n",
    "# unique customer_id 1362281 "
   ]
  },
  {
   "cell_type": "code",
   "execution_count": 220,
   "metadata": {},
   "outputs": [
    {
     "data": {
      "text/html": [
       "<div>\n",
       "<style scoped>\n",
       "    .dataframe tbody tr th:only-of-type {\n",
       "        vertical-align: middle;\n",
       "    }\n",
       "\n",
       "    .dataframe tbody tr th {\n",
       "        vertical-align: top;\n",
       "    }\n",
       "\n",
       "    .dataframe thead th {\n",
       "        text-align: right;\n",
       "    }\n",
       "</style>\n",
       "<table border=\"1\" class=\"dataframe\">\n",
       "  <thead>\n",
       "    <tr style=\"text-align: right;\">\n",
       "      <th></th>\n",
       "      <th>customer_id</th>\n",
       "      <th>article_id</th>\n",
       "      <th>ct</th>\n",
       "    </tr>\n",
       "  </thead>\n",
       "  <tbody>\n",
       "    <tr>\n",
       "      <th>22164211</th>\n",
       "      <td>5743206735920807081</td>\n",
       "      <td>0678342001</td>\n",
       "      <td>570</td>\n",
       "    </tr>\n",
       "    <tr>\n",
       "      <th>3596714</th>\n",
       "      <td>-6801691935245814174</td>\n",
       "      <td>0629420001</td>\n",
       "      <td>199</td>\n",
       "    </tr>\n",
       "    <tr>\n",
       "      <th>13118781</th>\n",
       "      <td>-354604980049654278</td>\n",
       "      <td>0507909001</td>\n",
       "      <td>188</td>\n",
       "    </tr>\n",
       "    <tr>\n",
       "      <th>2929681</th>\n",
       "      <td>-7250849952617471376</td>\n",
       "      <td>0570002001</td>\n",
       "      <td>170</td>\n",
       "    </tr>\n",
       "    <tr>\n",
       "      <th>7449486</th>\n",
       "      <td>-4193172709156082837</td>\n",
       "      <td>0688558002</td>\n",
       "      <td>166</td>\n",
       "    </tr>\n",
       "    <tr>\n",
       "      <th>...</th>\n",
       "      <td>...</td>\n",
       "      <td>...</td>\n",
       "      <td>...</td>\n",
       "    </tr>\n",
       "    <tr>\n",
       "      <th>9727145</th>\n",
       "      <td>-2643262122928061301</td>\n",
       "      <td>0687704022</td>\n",
       "      <td>1</td>\n",
       "    </tr>\n",
       "    <tr>\n",
       "      <th>9727134</th>\n",
       "      <td>-2643268431573618120</td>\n",
       "      <td>0803468002</td>\n",
       "      <td>1</td>\n",
       "    </tr>\n",
       "    <tr>\n",
       "      <th>9726865</th>\n",
       "      <td>-2643330769870893851</td>\n",
       "      <td>0936622001</td>\n",
       "      <td>1</td>\n",
       "    </tr>\n",
       "    <tr>\n",
       "      <th>9726867</th>\n",
       "      <td>-2643322680570466252</td>\n",
       "      <td>0640735003</td>\n",
       "      <td>1</td>\n",
       "    </tr>\n",
       "    <tr>\n",
       "      <th>9726953</th>\n",
       "      <td>-2643314466590604342</td>\n",
       "      <td>0611221005</td>\n",
       "      <td>1</td>\n",
       "    </tr>\n",
       "  </tbody>\n",
       "</table>\n",
       "<p>1362281 rows × 3 columns</p>\n",
       "</div>"
      ],
      "text/plain": [
       "                  customer_id  article_id   ct\n",
       "22164211  5743206735920807081  0678342001  570\n",
       "3596714  -6801691935245814174  0629420001  199\n",
       "13118781  -354604980049654278  0507909001  188\n",
       "2929681  -7250849952617471376  0570002001  170\n",
       "7449486  -4193172709156082837  0688558002  166\n",
       "...                       ...         ...  ...\n",
       "9727145  -2643262122928061301  0687704022    1\n",
       "9727134  -2643268431573618120  0803468002    1\n",
       "9726865  -2643330769870893851  0936622001    1\n",
       "9726867  -2643322680570466252  0640735003    1\n",
       "9726953  -2643314466590604342  0611221005    1\n",
       "\n",
       "[1362281 rows x 3 columns]"
      ]
     },
     "execution_count": 220,
     "metadata": {},
     "output_type": "execute_result"
    }
   ],
   "source": [
    "trans_most_df['article_id'] = '0' + trans_most_df['article_id'].astype('str')\n",
    "trans_most_df"
   ]
  },
  {
   "cell_type": "code",
   "execution_count": 222,
   "metadata": {},
   "outputs": [
    {
     "ename": "TypeError",
     "evalue": "'list' object is not callable",
     "output_type": "error",
     "traceback": [
      "\u001b[0;31m---------------------------------------------------------------------------\u001b[0m",
      "\u001b[0;31mTypeError\u001b[0m                                 Traceback (most recent call last)",
      "Cell \u001b[0;32mIn[222], line 8\u001b[0m\n\u001b[1;32m      6\u001b[0m customers_df \u001b[39m=\u001b[39m customers_df\u001b[39m.\u001b[39mmerge(trans_most_df, how\u001b[39m=\u001b[39m\u001b[39m'\u001b[39m\u001b[39mleft\u001b[39m\u001b[39m'\u001b[39m, left_on\u001b[39m=\u001b[39m\u001b[39m'\u001b[39m\u001b[39mcustomer_intid\u001b[39m\u001b[39m'\u001b[39m, right_on \u001b[39m=\u001b[39m\u001b[39m'\u001b[39m\u001b[39mcustomer_id\u001b[39m\u001b[39m'\u001b[39m)\n\u001b[1;32m      7\u001b[0m customers_df \u001b[39m=\u001b[39m customers_df[[\u001b[39m'\u001b[39m\u001b[39mcustomer_id_x\u001b[39m\u001b[39m'\u001b[39m,\u001b[39m'\u001b[39m\u001b[39marticle_id\u001b[39m\u001b[39m'\u001b[39m,\u001b[39m'\u001b[39m\u001b[39mct\u001b[39m\u001b[39m'\u001b[39m]]\n\u001b[0;32m----> 8\u001b[0m customers_df\u001b[39m.\u001b[39;49mrename(columns\u001b[39m=\u001b[39;49m[\u001b[39m'\u001b[39;49m\u001b[39mcustomer_id\u001b[39;49m\u001b[39m'\u001b[39;49m,\u001b[39m'\u001b[39;49m\u001b[39marticle_idstr\u001b[39;49m\u001b[39m'\u001b[39;49m,\u001b[39m'\u001b[39;49m\u001b[39mcount\u001b[39;49m\u001b[39m'\u001b[39;49m])\n",
      "File \u001b[0;32m~/Documents/project/HandM/.venv/lib/python3.9/site-packages/pandas/core/frame.py:5432\u001b[0m, in \u001b[0;36mDataFrame.rename\u001b[0;34m(self, mapper, index, columns, axis, copy, inplace, level, errors)\u001b[0m\n\u001b[1;32m   5313\u001b[0m \u001b[39mdef\u001b[39;00m \u001b[39mrename\u001b[39m(\n\u001b[1;32m   5314\u001b[0m     \u001b[39mself\u001b[39m,\n\u001b[1;32m   5315\u001b[0m     mapper: Renamer \u001b[39m|\u001b[39m \u001b[39mNone\u001b[39;00m \u001b[39m=\u001b[39m \u001b[39mNone\u001b[39;00m,\n\u001b[0;32m   (...)\u001b[0m\n\u001b[1;32m   5323\u001b[0m     errors: IgnoreRaise \u001b[39m=\u001b[39m \u001b[39m\"\u001b[39m\u001b[39mignore\u001b[39m\u001b[39m\"\u001b[39m,\n\u001b[1;32m   5324\u001b[0m ) \u001b[39m-\u001b[39m\u001b[39m>\u001b[39m DataFrame \u001b[39m|\u001b[39m \u001b[39mNone\u001b[39;00m:\n\u001b[1;32m   5325\u001b[0m \u001b[39m    \u001b[39m\u001b[39m\"\"\"\u001b[39;00m\n\u001b[1;32m   5326\u001b[0m \u001b[39m    Rename columns or index labels.\u001b[39;00m\n\u001b[1;32m   5327\u001b[0m \n\u001b[0;32m   (...)\u001b[0m\n\u001b[1;32m   5430\u001b[0m \u001b[39m    4  3  6\u001b[39;00m\n\u001b[1;32m   5431\u001b[0m \u001b[39m    \"\"\"\u001b[39;00m\n\u001b[0;32m-> 5432\u001b[0m     \u001b[39mreturn\u001b[39;00m \u001b[39msuper\u001b[39;49m()\u001b[39m.\u001b[39;49m_rename(\n\u001b[1;32m   5433\u001b[0m         mapper\u001b[39m=\u001b[39;49mmapper,\n\u001b[1;32m   5434\u001b[0m         index\u001b[39m=\u001b[39;49mindex,\n\u001b[1;32m   5435\u001b[0m         columns\u001b[39m=\u001b[39;49mcolumns,\n\u001b[1;32m   5436\u001b[0m         axis\u001b[39m=\u001b[39;49maxis,\n\u001b[1;32m   5437\u001b[0m         copy\u001b[39m=\u001b[39;49mcopy,\n\u001b[1;32m   5438\u001b[0m         inplace\u001b[39m=\u001b[39;49minplace,\n\u001b[1;32m   5439\u001b[0m         level\u001b[39m=\u001b[39;49mlevel,\n\u001b[1;32m   5440\u001b[0m         errors\u001b[39m=\u001b[39;49merrors,\n\u001b[1;32m   5441\u001b[0m     )\n",
      "File \u001b[0;32m~/Documents/project/HandM/.venv/lib/python3.9/site-packages/pandas/core/generic.py:1034\u001b[0m, in \u001b[0;36mNDFrame._rename\u001b[0;34m(self, mapper, index, columns, axis, copy, inplace, level, errors)\u001b[0m\n\u001b[1;32m   1027\u001b[0m         missing_labels \u001b[39m=\u001b[39m [\n\u001b[1;32m   1028\u001b[0m             label\n\u001b[1;32m   1029\u001b[0m             \u001b[39mfor\u001b[39;00m index, label \u001b[39min\u001b[39;00m \u001b[39menumerate\u001b[39m(replacements)\n\u001b[1;32m   1030\u001b[0m             \u001b[39mif\u001b[39;00m indexer[index] \u001b[39m==\u001b[39m \u001b[39m-\u001b[39m\u001b[39m1\u001b[39m\n\u001b[1;32m   1031\u001b[0m         ]\n\u001b[1;32m   1032\u001b[0m         \u001b[39mraise\u001b[39;00m \u001b[39mKeyError\u001b[39;00m(\u001b[39mf\u001b[39m\u001b[39m\"\u001b[39m\u001b[39m{\u001b[39;00mmissing_labels\u001b[39m}\u001b[39;00m\u001b[39m not found in axis\u001b[39m\u001b[39m\"\u001b[39m)\n\u001b[0;32m-> 1034\u001b[0m new_index \u001b[39m=\u001b[39m ax\u001b[39m.\u001b[39;49m_transform_index(f, level\u001b[39m=\u001b[39;49mlevel)\n\u001b[1;32m   1035\u001b[0m result\u001b[39m.\u001b[39m_set_axis_nocheck(new_index, axis\u001b[39m=\u001b[39maxis_no, inplace\u001b[39m=\u001b[39m\u001b[39mTrue\u001b[39;00m, copy\u001b[39m=\u001b[39m\u001b[39mFalse\u001b[39;00m)\n\u001b[1;32m   1036\u001b[0m result\u001b[39m.\u001b[39m_clear_item_cache()\n",
      "File \u001b[0;32m~/Documents/project/HandM/.venv/lib/python3.9/site-packages/pandas/core/indexes/base.py:6207\u001b[0m, in \u001b[0;36mIndex._transform_index\u001b[0;34m(self, func, level)\u001b[0m\n\u001b[1;32m   6205\u001b[0m     \u001b[39mreturn\u001b[39;00m \u001b[39mtype\u001b[39m(\u001b[39mself\u001b[39m)\u001b[39m.\u001b[39mfrom_arrays(values)\n\u001b[1;32m   6206\u001b[0m \u001b[39melse\u001b[39;00m:\n\u001b[0;32m-> 6207\u001b[0m     items \u001b[39m=\u001b[39m [func(x) \u001b[39mfor\u001b[39;00m x \u001b[39min\u001b[39;00m \u001b[39mself\u001b[39m]\n\u001b[1;32m   6208\u001b[0m     \u001b[39mreturn\u001b[39;00m Index(items, name\u001b[39m=\u001b[39m\u001b[39mself\u001b[39m\u001b[39m.\u001b[39mname, tupleize_cols\u001b[39m=\u001b[39m\u001b[39mFalse\u001b[39;00m)\n",
      "File \u001b[0;32m~/Documents/project/HandM/.venv/lib/python3.9/site-packages/pandas/core/indexes/base.py:6207\u001b[0m, in \u001b[0;36m<listcomp>\u001b[0;34m(.0)\u001b[0m\n\u001b[1;32m   6205\u001b[0m     \u001b[39mreturn\u001b[39;00m \u001b[39mtype\u001b[39m(\u001b[39mself\u001b[39m)\u001b[39m.\u001b[39mfrom_arrays(values)\n\u001b[1;32m   6206\u001b[0m \u001b[39melse\u001b[39;00m:\n\u001b[0;32m-> 6207\u001b[0m     items \u001b[39m=\u001b[39m [func(x) \u001b[39mfor\u001b[39;00m x \u001b[39min\u001b[39;00m \u001b[39mself\u001b[39m]\n\u001b[1;32m   6208\u001b[0m     \u001b[39mreturn\u001b[39;00m Index(items, name\u001b[39m=\u001b[39m\u001b[39mself\u001b[39m\u001b[39m.\u001b[39mname, tupleize_cols\u001b[39m=\u001b[39m\u001b[39mFalse\u001b[39;00m)\n",
      "\u001b[0;31mTypeError\u001b[0m: 'list' object is not callable"
     ]
    }
   ],
   "source": [
    "# merge with customers \n",
    "customers_df = pd.read_csv(\"input/customers.csv\")\n",
    "customers_df = customers_df[['customer_id']]\n",
    "customers_df['customer_intid'] = customers_df['customer_id'].apply(lambda x: int(x[-16:],16)).astype('int64')\n",
    "# merge with output \n",
    "customers_df = customers_df.merge(trans_most_df, how='left', left_on='customer_intid', right_on ='customer_id')\n",
    "customers_df = customers_df[['customer_id_x','article_id','ct']]\n",
    "\n"
   ]
  },
  {
   "cell_type": "code",
   "execution_count": 224,
   "metadata": {},
   "outputs": [
    {
     "data": {
      "text/html": [
       "<div>\n",
       "<style scoped>\n",
       "    .dataframe tbody tr th:only-of-type {\n",
       "        vertical-align: middle;\n",
       "    }\n",
       "\n",
       "    .dataframe tbody tr th {\n",
       "        vertical-align: top;\n",
       "    }\n",
       "\n",
       "    .dataframe thead th {\n",
       "        text-align: right;\n",
       "    }\n",
       "</style>\n",
       "<table border=\"1\" class=\"dataframe\">\n",
       "  <thead>\n",
       "    <tr style=\"text-align: right;\">\n",
       "      <th></th>\n",
       "      <th>customer_id</th>\n",
       "      <th>article_id</th>\n",
       "      <th>ct</th>\n",
       "    </tr>\n",
       "  </thead>\n",
       "  <tbody>\n",
       "    <tr>\n",
       "      <th>0</th>\n",
       "      <td>00000dbacae5abe5e23885899a1fa44253a17956c6d1c3...</td>\n",
       "      <td>0797065001</td>\n",
       "      <td>2.0</td>\n",
       "    </tr>\n",
       "    <tr>\n",
       "      <th>1</th>\n",
       "      <td>0000423b00ade91418cceaf3b26c6af3dd342b51fd051e...</td>\n",
       "      <td>0811835004</td>\n",
       "      <td>4.0</td>\n",
       "    </tr>\n",
       "    <tr>\n",
       "      <th>2</th>\n",
       "      <td>000058a12d5b43e67d225668fa1f8d618c13dc232df0ca...</td>\n",
       "      <td>0663713001</td>\n",
       "      <td>2.0</td>\n",
       "    </tr>\n",
       "    <tr>\n",
       "      <th>3</th>\n",
       "      <td>00005ca1c9ed5f5146b52ac8639a40ca9d57aeff4d1bd2...</td>\n",
       "      <td>0742079001</td>\n",
       "      <td>1.0</td>\n",
       "    </tr>\n",
       "    <tr>\n",
       "      <th>4</th>\n",
       "      <td>00006413d8573cd20ed7128e53b7b13819fe5cfc2d801f...</td>\n",
       "      <td>0399061015</td>\n",
       "      <td>2.0</td>\n",
       "    </tr>\n",
       "    <tr>\n",
       "      <th>...</th>\n",
       "      <td>...</td>\n",
       "      <td>...</td>\n",
       "      <td>...</td>\n",
       "    </tr>\n",
       "    <tr>\n",
       "      <th>1371975</th>\n",
       "      <td>ffffbbf78b6eaac697a8a5dfbfd2bfa8113ee5b403e474...</td>\n",
       "      <td>0712924008</td>\n",
       "      <td>3.0</td>\n",
       "    </tr>\n",
       "    <tr>\n",
       "      <th>1371976</th>\n",
       "      <td>ffffcd5046a6143d29a04fb8c424ce494a76e5cdf4fab5...</td>\n",
       "      <td>0663568009</td>\n",
       "      <td>2.0</td>\n",
       "    </tr>\n",
       "    <tr>\n",
       "      <th>1371977</th>\n",
       "      <td>ffffcf35913a0bee60e8741cb2b4e78b8a98ee5ff2e6a1...</td>\n",
       "      <td>0399256013</td>\n",
       "      <td>2.0</td>\n",
       "    </tr>\n",
       "    <tr>\n",
       "      <th>1371978</th>\n",
       "      <td>ffffd7744cebcf3aca44ae7049d2a94b87074c3d4ffe38...</td>\n",
       "      <td>0866755002</td>\n",
       "      <td>2.0</td>\n",
       "    </tr>\n",
       "    <tr>\n",
       "      <th>1371979</th>\n",
       "      <td>ffffd9ac14e89946416d80e791d064701994755c3ab686...</td>\n",
       "      <td>0806050001</td>\n",
       "      <td>1.0</td>\n",
       "    </tr>\n",
       "  </tbody>\n",
       "</table>\n",
       "<p>1371980 rows × 3 columns</p>\n",
       "</div>"
      ],
      "text/plain": [
       "                                               customer_id  article_id   ct\n",
       "0        00000dbacae5abe5e23885899a1fa44253a17956c6d1c3...  0797065001  2.0\n",
       "1        0000423b00ade91418cceaf3b26c6af3dd342b51fd051e...  0811835004  4.0\n",
       "2        000058a12d5b43e67d225668fa1f8d618c13dc232df0ca...  0663713001  2.0\n",
       "3        00005ca1c9ed5f5146b52ac8639a40ca9d57aeff4d1bd2...  0742079001  1.0\n",
       "4        00006413d8573cd20ed7128e53b7b13819fe5cfc2d801f...  0399061015  2.0\n",
       "...                                                    ...         ...  ...\n",
       "1371975  ffffbbf78b6eaac697a8a5dfbfd2bfa8113ee5b403e474...  0712924008  3.0\n",
       "1371976  ffffcd5046a6143d29a04fb8c424ce494a76e5cdf4fab5...  0663568009  2.0\n",
       "1371977  ffffcf35913a0bee60e8741cb2b4e78b8a98ee5ff2e6a1...  0399256013  2.0\n",
       "1371978  ffffd7744cebcf3aca44ae7049d2a94b87074c3d4ffe38...  0866755002  2.0\n",
       "1371979  ffffd9ac14e89946416d80e791d064701994755c3ab686...  0806050001  1.0\n",
       "\n",
       "[1371980 rows x 3 columns]"
      ]
     },
     "execution_count": 224,
     "metadata": {},
     "output_type": "execute_result"
    }
   ],
   "source": [
    "customers_df.rename(columns={'customer_id_x':'customer_id'})"
   ]
  },
  {
   "cell_type": "code",
   "execution_count": 225,
   "metadata": {},
   "outputs": [],
   "source": [
    "# output a npy\n",
    "customers_df.to_csv('customer_most_bought.csv')"
   ]
  },
  {
   "cell_type": "markdown",
   "metadata": {},
   "source": [
    "### 2. Recommend Items Purchased Together \n",
    "use the command drop_duplicates so that we don't recommend an item that the user has already bought and we have already recommended above. \n",
    "\n",
    "we will recommend previous items first and then items purchased together second."
   ]
  },
  {
   "cell_type": "code",
   "execution_count": 184,
   "metadata": {},
   "outputs": [],
   "source": [
    "# get together items \n",
    "df = pd.read_csv(\"input/transactions_train.csv\")\n",
    "df = df[['customer_id','article_id']]"
   ]
  },
  {
   "cell_type": "code",
   "execution_count": 185,
   "metadata": {},
   "outputs": [],
   "source": [
    "df['customer_id'] = df['customer_id'].apply(lambda x: int(x[-16:],16)).astype('int64')\n",
    "df['article_id'] = df.article_id.astype('int32')\n"
   ]
  },
  {
   "cell_type": "code",
   "execution_count": 186,
   "metadata": {},
   "outputs": [],
   "source": [
    "# FIND ITEMS PURCHASED TOGETHER \n",
    "## show article_id counts \n",
    "vc = df.article_id.value_counts()\n"
   ]
  },
  {
   "cell_type": "code",
   "execution_count": 187,
   "metadata": {},
   "outputs": [],
   "source": [
    "pairs = {}\n",
    "# return article id index \n",
    "for j,i in enumerate(vc.index.values[:1032]):\n",
    "    # for given article, get unique customer_id \n",
    "    USERS = df.loc[df.article_id==i.item(),'customer_id'].unique()\n",
    "\n",
    "    # For given customer and item not the same \n",
    "    # The resulting object will be in descending order so that the first element is the most frequently-occurring element. \n",
    "    vc2 = df.loc[(df.customer_id.isin(USERS))&(df.article_id!=i.item()),'article_id'].value_counts()\n",
    "\n",
    "    # get first 3 item bout together\n",
    "    pairs[i.item()] = ['0'+str(vc2.index[0]), '0'+str(vc2.index[1]), '0'+str(vc2.index[2])]"
   ]
  },
  {
   "cell_type": "code",
   "execution_count": 227,
   "metadata": {},
   "outputs": [
    {
     "name": "stdout",
     "output_type": "stream",
     "text": [
      "dictionary saved successfully to file\n"
     ]
    }
   ],
   "source": [
    "## Output a dictionary where you can look up and ge the most bought together \n",
    "import pickle\n",
    "\n",
    "# save dictionary to person_data.pkl file with pairs as int wiht 0 \n",
    "with open('paris.pkl', 'wb') as f:\n",
    "    pickle.dump(pairs, f)\n",
    "    print('dictionary saved successfully to file')\n",
    "## Load pickle "
   ]
  },
  {
   "cell_type": "markdown",
   "metadata": {},
   "source": [
    "## 3. last week top item recommend "
   ]
  },
  {
   "cell_type": "code",
   "execution_count": 144,
   "metadata": {},
   "outputs": [],
   "source": [
    "lastweek = transactions.loc[transactions.t_dat >= pd.to_datetime('2020-09-16')]"
   ]
  },
  {
   "cell_type": "code",
   "execution_count": 150,
   "metadata": {},
   "outputs": [],
   "source": [
    "top12 = '0' + lastweek.article_id.value_counts().index.astype('str')[:12]"
   ]
  },
  {
   "cell_type": "code",
   "execution_count": 226,
   "metadata": {},
   "outputs": [],
   "source": [
    "np.save('top12.npy',top12)\n"
   ]
  },
  {
   "cell_type": "code",
   "execution_count": null,
   "metadata": {},
   "outputs": [],
   "source": []
  }
 ],
 "metadata": {
  "kernelspec": {
   "display_name": ".venv",
   "language": "python",
   "name": "python3"
  },
  "language_info": {
   "codemirror_mode": {
    "name": "ipython",
    "version": 3
   },
   "file_extension": ".py",
   "mimetype": "text/x-python",
   "name": "python",
   "nbconvert_exporter": "python",
   "pygments_lexer": "ipython3",
   "version": "3.9.6"
  },
  "orig_nbformat": 4
 },
 "nbformat": 4,
 "nbformat_minor": 2
}
